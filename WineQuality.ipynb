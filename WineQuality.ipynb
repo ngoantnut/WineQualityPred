{
  "nbformat": 4,
  "nbformat_minor": 0,
  "metadata": {
    "colab": {
      "name": "WineQuality.ipynb",
      "provenance": [],
      "collapsed_sections": [],
      "include_colab_link": true
    },
    "kernelspec": {
      "name": "python3",
      "display_name": "Python 3"
    }
  },
  "cells": [
    {
      "cell_type": "markdown",
      "metadata": {
        "id": "view-in-github",
        "colab_type": "text"
      },
      "source": [
        "<a href=\"https://colab.research.google.com/github/ngoantnut/WineQualityPred/blob/main/WineQuality.ipynb\" target=\"_parent\"><img src=\"https://colab.research.google.com/assets/colab-badge.svg\" alt=\"Open In Colab\"/></a>"
      ]
    },
    {
      "metadata": {
        "id": "g1v1FSysORmW"
      },
      "cell_type": "markdown",
      "source": [
        "**Installing Libraries**"
      ]
    },
    {
      "metadata": {
        "id": "XmDV4L-MOI7O"
      },
      "cell_type": "code",
      "source": [
        "import numpy as np\n",
        "import pandas as pd\n",
        "import seaborn as sns\n",
        "import matplotlib.pyplot as plt"
      ],
      "execution_count": 31,
      "outputs": []
    },
    {
      "metadata": {
        "id": "L_7aMJA_Of39"
      },
      "cell_type": "markdown",
      "source": [
        "**Importing the Dataset**"
      ]
    },
    {
      "cell_type": "code",
      "source": [
        "df = pd.read_csv(\"train1.csv\")\n",
        "dft = pd.read_csv(\"test1.csv\")"
      ],
      "metadata": {
        "id": "yEn9ANKpFbdh"
      },
      "execution_count": 32,
      "outputs": []
    },
    {
      "cell_type": "code",
      "source": [
        "print(df.head())"
      ],
      "metadata": {
        "colab": {
          "base_uri": "https://localhost:8080/"
        },
        "id": "RTOExe56GQ6i",
        "outputId": "d1725ef7-afa0-4adc-f3d9-9fe945fcb373"
      },
      "execution_count": 33,
      "outputs": [
        {
          "output_type": "stream",
          "name": "stdout",
          "text": [
            "   Id  fixed acidity  volatile acidity  citric acid  residual sugar  \\\n",
            "0   1            8.7              0.34         0.46            13.8   \n",
            "1   2            5.6              0.26         0.00            10.2   \n",
            "2   3            7.9              0.25         0.29             5.3   \n",
            "3   4            6.7              0.24         0.33            12.3   \n",
            "4   5            7.0              0.27         0.74             1.3   \n",
            "\n",
            "   chlorides  free sulfur dioxide  total sulfur dioxide  density    pH  \\\n",
            "0      0.055                 68.0                 198.0  0.99880  3.36   \n",
            "1      0.038                 13.0                 111.0  0.99315  3.44   \n",
            "2      0.031                 33.0                 117.0  0.99180  3.06   \n",
            "3      0.046                 31.0                 145.0  0.99830  3.36   \n",
            "4      0.173                 34.0                 121.0  0.99334  3.04   \n",
            "\n",
            "   sulphates  alcohol  quality  \n",
            "0       0.37      9.5        6  \n",
            "1       0.46     12.4        6  \n",
            "2       0.32     11.8        7  \n",
            "3       0.40      9.5        5  \n",
            "4       0.46      9.2        6  \n"
          ]
        }
      ]
    },
    {
      "cell_type": "code",
      "source": [
        "df['quality'].value_counts()"
      ],
      "metadata": {
        "colab": {
          "base_uri": "https://localhost:8080/"
        },
        "id": "1L78RPh0GVHp",
        "outputId": "1280d1f0-390f-455f-f3c2-748a59be02dc"
      },
      "execution_count": 34,
      "outputs": [
        {
          "output_type": "execute_result",
          "data": {
            "text/plain": [
              "6    2258\n",
              "5    1716\n",
              "7     882\n",
              "4     165\n",
              "8     147\n",
              "3      27\n",
              "9       5\n",
              "Name: quality, dtype: int64"
            ]
          },
          "metadata": {},
          "execution_count": 34
        }
      ]
    },
    {
      "cell_type": "code",
      "source": [
        "df.info()"
      ],
      "metadata": {
        "colab": {
          "base_uri": "https://localhost:8080/"
        },
        "id": "4kXpUJqPGawQ",
        "outputId": "ef7c6c48-f8d5-4d73-8a38-141c9872035f"
      },
      "execution_count": 35,
      "outputs": [
        {
          "output_type": "stream",
          "name": "stdout",
          "text": [
            "<class 'pandas.core.frame.DataFrame'>\n",
            "RangeIndex: 5200 entries, 0 to 5199\n",
            "Data columns (total 13 columns):\n",
            " #   Column                Non-Null Count  Dtype  \n",
            "---  ------                --------------  -----  \n",
            " 0   Id                    5200 non-null   int64  \n",
            " 1   fixed acidity         5200 non-null   float64\n",
            " 2   volatile acidity      5200 non-null   float64\n",
            " 3   citric acid           5200 non-null   float64\n",
            " 4   residual sugar        5200 non-null   float64\n",
            " 5   chlorides             5200 non-null   float64\n",
            " 6   free sulfur dioxide   5200 non-null   float64\n",
            " 7   total sulfur dioxide  5200 non-null   float64\n",
            " 8   density               5200 non-null   float64\n",
            " 9   pH                    5200 non-null   float64\n",
            " 10  sulphates             5200 non-null   float64\n",
            " 11  alcohol               5200 non-null   float64\n",
            " 12  quality               5200 non-null   int64  \n",
            "dtypes: float64(11), int64(2)\n",
            "memory usage: 528.2 KB\n"
          ]
        }
      ]
    },
    {
      "cell_type": "markdown",
      "source": [
        "Đây là tệp dữ liệu rất đầy đủ, vì thế ta không cần quá trình xử lý dữ liệu missing.\n",
        " Tệp dữ liệu có gần 5200 mẫu, với 13 cột:\n",
        "0. Id: Đánh số thứ tự các mẫu dữ liệu\n",
        "1. fixed acidity: Các axit cố định chủ yếu được tìm thấy trong rượu vang là tartaric, malic, citric và succinic.\n",
        "2. volatile acidity: Độ axit dễ bay hơi đề cập đến các axit có thể chưng cất bằng hơi nước có trong rượu vang, chủ yếu là axit axetic nhưng cũng có các axit lactic, formic, butyric và propionic.\n",
        "3. citric acid: Axit citric là một axit hữu cơ yếu có công thức hóa học là C6H8O7. Nó xuất hiện tự nhiên trong trái cây họ cam quýt. Axit xitric có thể thêm 'độ tươi' và hương vị cho rượu vang\n",
        "4. residual sugar: Đường dư là đường nho tự nhiên còn sót lại trong rượu sau khi quá trình lên men rượu. Nó được đo bằng gam trên lít. Lượng đường còn lại sau khi ngừng lên men, hiếm khi tìm thấy những loại rượu nhỏ hơn 1 gam / lít và những loại rượu lớn hơn 45 gam / lít được coi là ngọt.\n",
        "5. chlorides: Lượng muối trong rượu\n",
        "6. free sulfur dioxide:  Lưu huỳnh đioxit tự do là thước đo lượng SO2 không liên kết với các phân tử khác, và được sử dụng để tính phân tử SO2\n",
        "7. total sulfur dioxide: Tổng lưu huỳnh đioxit (SO2) là thước đo của cả dạng liên kết và tự do của SO2\n",
        "8. density:\n",
        "9. pH: mô tả mức độ axit hoặc bazơ của rượu trên thang từ 0 (rất axit) đến 14 (rất bazơ); hầu hết các loại rượu đều nằm trong khoảng 3-4 trên thang độ pH\n",
        "10. sulphates: một phụ gia rượu vang có thể góp phần vào mức khí sulfur dioxide, hoạt động như một chất chống vi khuẩn và chất chống oxy hóa\n",
        "11. alcohol: nồng độ cồn trong rượu, được đánh giá theo %\n",
        "12. quality: chất lượng rượu được đánh giá theo thang điểm 0-10\n"
      ],
      "metadata": {
        "id": "0Y0HczBnyrjY"
      }
    },
    {
      "cell_type": "code",
      "source": [
        "\n",
        "df.iloc[:, 1:].hist(bins=20, figsize=(20, 10))\n",
        "plt.show()\n",
        "    \n",
        "print(' wine histogram')    \n"
      ],
      "metadata": {
        "colab": {
          "base_uri": "https://localhost:8080/",
          "height": 600
        },
        "id": "vPpQFjXu1r4l",
        "outputId": "29ae2c8c-382e-4b50-998e-449343581734"
      },
      "execution_count": 36,
      "outputs": [
        {
          "output_type": "display_data",
          "data": {
            "text/plain": [
              "<Figure size 1440x720 with 12 Axes>"
            ],
            "image/png": "[encoded data removed]"
          },
          "metadata": {
            "needs_background": "light"
          }
        },
        {
          "output_type": "stream",
          "name": "stdout",
          "text": [
            " wine histogram\n"
          ]
        }
      ]
    },
    {
      "cell_type": "markdown",
      "source": [
        ""
      ],
      "metadata": {
        "id": "jsDvfL-_BcEF"
      }
    },
    {
      "cell_type": "code",
      "source": [
        "plt.subplots(figsize=(14,9))\n",
        "sns.heatmap(df.corr(),annot=True)"
      ],
      "metadata": {
        "colab": {
          "base_uri": "https://localhost:8080/",
          "height": 642
        },
        "id": "9-aluRPOGehA",
        "outputId": "7b964a0f-0a6b-4906-889d-361fecdb3e42"
      },
      "execution_count": 37,
      "outputs": [
        {
          "output_type": "execute_result",
          "data": {
            "text/plain": [
              "<matplotlib.axes._subplots.AxesSubplot at 0x7fe6c477d6d0>"
            ]
          },
          "metadata": {},
          "execution_count": 37
        },
        {
          "output_type": "display_data",
          "data": {
            "text/plain": [
              "<Figure size 1008x648 with 2 Axes>"
            ],
            "image/png": "[encoded data removed]"
          },
          "metadata": {
            "needs_background": "light"
          }
        }
      ]
    },
    {
      "cell_type": "markdown",
      "source": [
        "Dựa theo bản đồ tuong quan trên, ta thấy alcohol ảnh hưởng đến chất lượng rượu nhiều nhất"
      ],
      "metadata": {
        "id": "2RMWddP-kE-1"
      }
    },
    {
      "cell_type": "code",
      "source": [
        "\n",
        "from scipy import stats\n",
        "z= df.iloc[:, -1].values\n",
        "k= df.iloc[:, -2].values\n",
        "\n",
        "slope, intercept, r, p, std_err = stats.linregress(z, k)\n",
        "\n",
        "def myfunc(z):\n",
        "  return slope * z + intercept\n",
        "\n",
        "mymodel = list(map(myfunc, z))\n",
        "\n",
        "plt.scatter(z, k)\n",
        "plt.plot(z, mymodel)\n",
        "plt.show()"
      ],
      "metadata": {
        "colab": {
          "base_uri": "https://localhost:8080/",
          "height": 265
        },
        "id": "hcTe5wmk2a1J",
        "outputId": "d9bb0ee8-c761-427a-f634-e2c0ba760e28"
      },
      "execution_count": 38,
      "outputs": [
        {
          "output_type": "display_data",
          "data": {
            "text/plain": [
              "<Figure size 432x288 with 1 Axes>"
            ],
            "image/png": "[encoded data removed]"
          },
          "metadata": {
            "needs_background": "light"
          }
        }
      ]
    },
    {
      "cell_type": "code",
      "source": [
        "df.columns"
      ],
      "metadata": {
        "colab": {
          "base_uri": "https://localhost:8080/"
        },
        "id": "xxl1fByHHEOo",
        "outputId": "9f77f5aa-5c35-49bb-ba97-41db038deeaf"
      },
      "execution_count": 39,
      "outputs": [
        {
          "output_type": "execute_result",
          "data": {
            "text/plain": [
              "Index(['Id', 'fixed acidity', 'volatile acidity', 'citric acid',\n",
              "       'residual sugar', 'chlorides', 'free sulfur dioxide',\n",
              "       'total sulfur dioxide', 'density', 'pH', 'sulphates', 'alcohol',\n",
              "       'quality'],\n",
              "      dtype='object')"
            ]
          },
          "metadata": {},
          "execution_count": 39
        }
      ]
    },
    {
      "cell_type": "markdown",
      "source": [
        "Ta thấy là cột ID hoàn toàn chỉ là đếm số TT, không ảnh hưởng đến kết quả chất lượng rượu. Vì vậy ta tạm loại bỏ nó"
      ],
      "metadata": {
        "id": "CNgJ5uHwkhCC"
      }
    },
    {
      "cell_type": "code",
      "source": [
        "df.drop([\"Id\"],axis = 1,inplace = True)"
      ],
      "metadata": {
        "id": "E3zuol3_Hyqp"
      },
      "execution_count": 40,
      "outputs": []
    },
    {
      "cell_type": "code",
      "source": [
        "ids = dft['Id']\n",
        "dft.drop([\"Id\"],axis = 1,inplace = True)"
      ],
      "metadata": {
        "id": "JgxIDEaoH1hE"
      },
      "execution_count": 41,
      "outputs": []
    },
    {
      "cell_type": "code",
      "source": [
        "df"
      ],
      "metadata": {
        "colab": {
          "base_uri": "https://localhost:8080/",
          "height": 485
        },
        "id": "f6xNbHXTH_fk",
        "outputId": "44de99ac-3c35-491a-e734-c4edd8c4a27e"
      },
      "execution_count": 42,
      "outputs": [
        {
          "output_type": "execute_result",
          "data": {
            "text/plain": [
              "      fixed acidity  volatile acidity  citric acid  residual sugar  chlorides  \\\n",
              "0               8.7              0.34         0.46            13.8      0.055   \n",
              "1               5.6              0.26         0.00            10.2      0.038   \n",
              "2               7.9              0.25         0.29             5.3      0.031   \n",
              "3               6.7              0.24         0.33            12.3      0.046   \n",
              "4               7.0              0.27         0.74             1.3      0.173   \n",
              "...             ...               ...          ...             ...        ...   \n",
              "5195            7.9              0.18         0.40             2.2      0.049   \n",
              "5196            9.9              0.25         0.46             1.7      0.062   \n",
              "5197            7.4              0.35         0.33             2.4      0.068   \n",
              "5198            7.8              0.56         0.19             2.0      0.081   \n",
              "5199            7.2              0.39         0.32             1.8      0.065   \n",
              "\n",
              "      free sulfur dioxide  total sulfur dioxide  density    pH  sulphates  \\\n",
              "0                    68.0                 198.0  0.99880  3.36       0.37   \n",
              "1                    13.0                 111.0  0.99315  3.44       0.46   \n",
              "2                    33.0                 117.0  0.99180  3.06       0.32   \n",
              "3                    31.0                 145.0  0.99830  3.36       0.40   \n",
              "4                    34.0                 121.0  0.99334  3.04       0.46   \n",
              "...                   ...                   ...      ...   ...        ...   \n",
              "5195                 38.0                  67.0  0.99600  3.33       0.93   \n",
              "5196                 26.0                  42.0  0.99590  3.18       0.83   \n",
              "5197                  9.0                  26.0  0.99470  3.36       0.60   \n",
              "5198                 17.0                 108.0  0.99620  3.32       0.54   \n",
              "5199                 34.0                  60.0  0.99714  3.46       0.78   \n",
              "\n",
              "      alcohol  quality  \n",
              "0         9.5        6  \n",
              "1        12.4        6  \n",
              "2        11.8        7  \n",
              "3         9.5        5  \n",
              "4         9.2        6  \n",
              "...       ...      ...  \n",
              "5195     11.3        5  \n",
              "5196     10.6        6  \n",
              "5197     11.9        6  \n",
              "5198      9.5        5  \n",
              "5199      9.9        5  \n",
              "\n",
              "[5200 rows x 12 columns]"
            ],
            "text/html": [
              "\n",
              "  <div id=\"df-a7a78629-2f70-477c-82ef-60f7088d09d2\">\n",
              "    <div class=\"colab-df-container\">\n",
              "      <div>\n",
              "<style scoped>\n",
              "    .dataframe tbody tr th:only-of-type {\n",
              "        vertical-align: middle;\n",
              "    }\n",
              "\n",
              "    .dataframe tbody tr th {\n",
              "        vertical-align: top;\n",
              "    }\n",
              "\n",
              "    .dataframe thead th {\n",
              "        text-align: right;\n",
              "    }\n",
              "</style>\n",
              "<table border=\"1\" class=\"dataframe\">\n",
              "  <thead>\n",
              "    <tr style=\"text-align: right;\">\n",
              "      <th></th>\n",
              "      <th>fixed acidity</th>\n",
              "      <th>volatile acidity</th>\n",
              "      <th>citric acid</th>\n",
              "      <th>residual sugar</th>\n",
              "      <th>chlorides</th>\n",
              "      <th>free sulfur dioxide</th>\n",
              "      <th>total sulfur dioxide</th>\n",
              "      <th>density</th>\n",
              "      <th>pH</th>\n",
              "      <th>sulphates</th>\n",
              "      <th>alcohol</th>\n",
              "      <th>quality</th>\n",
              "    </tr>\n",
              "  </thead>\n",
              "  <tbody>\n",
              "    <tr>\n",
              "      <th>0</th>\n",
              "      <td>8.7</td>\n",
              "      <td>0.34</td>\n",
              "      <td>0.46</td>\n",
              "      <td>13.8</td>\n",
              "      <td>0.055</td>\n",
              "      <td>68.0</td>\n",
              "      <td>198.0</td>\n",
              "      <td>0.99880</td>\n",
              "      <td>3.36</td>\n",
              "      <td>0.37</td>\n",
              "      <td>9.5</td>\n",
              "      <td>6</td>\n",
              "    </tr>\n",
              "    <tr>\n",
              "      <th>1</th>\n",
              "      <td>5.6</td>\n",
              "      <td>0.26</td>\n",
              "      <td>0.00</td>\n",
              "      <td>10.2</td>\n",
              "      <td>0.038</td>\n",
              "      <td>13.0</td>\n",
              "      <td>111.0</td>\n",
              "      <td>0.99315</td>\n",
              "      <td>3.44</td>\n",
              "      <td>0.46</td>\n",
              "      <td>12.4</td>\n",
              "      <td>6</td>\n",
              "    </tr>\n",
              "    <tr>\n",
              "      <th>2</th>\n",
              "      <td>7.9</td>\n",
              "      <td>0.25</td>\n",
              "      <td>0.29</td>\n",
              "      <td>5.3</td>\n",
              "      <td>0.031</td>\n",
              "      <td>33.0</td>\n",
              "      <td>117.0</td>\n",
              "      <td>0.99180</td>\n",
              "      <td>3.06</td>\n",
              "      <td>0.32</td>\n",
              "      <td>11.8</td>\n",
              "      <td>7</td>\n",
              "    </tr>\n",
              "    <tr>\n",
              "      <th>3</th>\n",
              "      <td>6.7</td>\n",
              "      <td>0.24</td>\n",
              "      <td>0.33</td>\n",
              "      <td>12.3</td>\n",
              "      <td>0.046</td>\n",
              "      <td>31.0</td>\n",
              "      <td>145.0</td>\n",
              "      <td>0.99830</td>\n",
              "      <td>3.36</td>\n",
              "      <td>0.40</td>\n",
              "      <td>9.5</td>\n",
              "      <td>5</td>\n",
              "    </tr>\n",
              "    <tr>\n",
              "      <th>4</th>\n",
              "      <td>7.0</td>\n",
              "      <td>0.27</td>\n",
              "      <td>0.74</td>\n",
              "      <td>1.3</td>\n",
              "      <td>0.173</td>\n",
              "      <td>34.0</td>\n",
              "      <td>121.0</td>\n",
              "      <td>0.99334</td>\n",
              "      <td>3.04</td>\n",
              "      <td>0.46</td>\n",
              "      <td>9.2</td>\n",
              "      <td>6</td>\n",
              "    </tr>\n",
              "    <tr>\n",
              "      <th>...</th>\n",
              "      <td>...</td>\n",
              "      <td>...</td>\n",
              "      <td>...</td>\n",
              "      <td>...</td>\n",
              "      <td>...</td>\n",
              "      <td>...</td>\n",
              "      <td>...</td>\n",
              "      <td>...</td>\n",
              "      <td>...</td>\n",
              "      <td>...</td>\n",
              "      <td>...</td>\n",
              "      <td>...</td>\n",
              "    </tr>\n",
              "    <tr>\n",
              "      <th>5195</th>\n",
              "      <td>7.9</td>\n",
              "      <td>0.18</td>\n",
              "      <td>0.40</td>\n",
              "      <td>2.2</td>\n",
              "      <td>0.049</td>\n",
              "      <td>38.0</td>\n",
              "      <td>67.0</td>\n",
              "      <td>0.99600</td>\n",
              "      <td>3.33</td>\n",
              "      <td>0.93</td>\n",
              "      <td>11.3</td>\n",
              "      <td>5</td>\n",
              "    </tr>\n",
              "    <tr>\n",
              "      <th>5196</th>\n",
              "      <td>9.9</td>\n",
              "      <td>0.25</td>\n",
              "      <td>0.46</td>\n",
              "      <td>1.7</td>\n",
              "      <td>0.062</td>\n",
              "      <td>26.0</td>\n",
              "      <td>42.0</td>\n",
              "      <td>0.99590</td>\n",
              "      <td>3.18</td>\n",
              "      <td>0.83</td>\n",
              "      <td>10.6</td>\n",
              "      <td>6</td>\n",
              "    </tr>\n",
              "    <tr>\n",
              "      <th>5197</th>\n",
              "      <td>7.4</td>\n",
              "      <td>0.35</td>\n",
              "      <td>0.33</td>\n",
              "      <td>2.4</td>\n",
              "      <td>0.068</td>\n",
              "      <td>9.0</td>\n",
              "      <td>26.0</td>\n",
              "      <td>0.99470</td>\n",
              "      <td>3.36</td>\n",
              "      <td>0.60</td>\n",
              "      <td>11.9</td>\n",
              "      <td>6</td>\n",
              "    </tr>\n",
              "    <tr>\n",
              "      <th>5198</th>\n",
              "      <td>7.8</td>\n",
              "      <td>0.56</td>\n",
              "      <td>0.19</td>\n",
              "      <td>2.0</td>\n",
              "      <td>0.081</td>\n",
              "      <td>17.0</td>\n",
              "      <td>108.0</td>\n",
              "      <td>0.99620</td>\n",
              "      <td>3.32</td>\n",
              "      <td>0.54</td>\n",
              "      <td>9.5</td>\n",
              "      <td>5</td>\n",
              "    </tr>\n",
              "    <tr>\n",
              "      <th>5199</th>\n",
              "      <td>7.2</td>\n",
              "      <td>0.39</td>\n",
              "      <td>0.32</td>\n",
              "      <td>1.8</td>\n",
              "      <td>0.065</td>\n",
              "      <td>34.0</td>\n",
              "      <td>60.0</td>\n",
              "      <td>0.99714</td>\n",
              "      <td>3.46</td>\n",
              "      <td>0.78</td>\n",
              "      <td>9.9</td>\n",
              "      <td>5</td>\n",
              "    </tr>\n",
              "  </tbody>\n",
              "</table>\n",
              "<p>5200 rows × 12 columns</p>\n",
              "</div>\n",
              "      <button class=\"colab-df-convert\" onclick=\"convertToInteractive('df-a7a78629-2f70-477c-82ef-60f7088d09d2')\"\n",
              "              title=\"Convert this dataframe to an interactive table.\"\n",
              "              style=\"display:none;\">\n",
              "        \n",
              "  <svg xmlns=\"http://www.w3.org/2000/svg\" height=\"24px\"viewBox=\"0 0 24 24\"\n",
              "       width=\"24px\">\n",
              "    <path d=\"M0 0h24v24H0V0z\" fill=\"none\"/>\n",
              "    <path d=\"M18.56 5.44l.94 2.06.94-2.06 2.06-.94-2.06-.94-.94-2.06-.94 2.06-2.06.94zm-11 1L8.5 8.5l.94-2.06 2.06-.94-2.06-.94L8.5 2.5l-.94 2.06-2.06.94zm10 10l.94 2.06.94-2.06 2.06-.94-2.06-.94-.94-2.06-.94 2.06-2.06.94z\"/><path d=\"M17.41 7.96l-1.37-1.37c-.4-.4-.92-.59-1.43-.59-.52 0-1.04.2-1.43.59L10.3 9.45l-7.72 7.72c-.78.78-.78 2.05 0 2.83L4 21.41c.39.39.9.59 1.41.59.51 0 1.02-.2 1.41-.59l7.78-7.78 2.81-2.81c.8-.78.8-2.07 0-2.86zM5.41 20L4 18.59l7.72-7.72 1.47 1.35L5.41 20z\"/>\n",
              "  </svg>\n",
              "      </button>\n",
              "      \n",
              "  <style>\n",
              "    .colab-df-container {\n",
              "      display:flex;\n",
              "      flex-wrap:wrap;\n",
              "      gap: 12px;\n",
              "    }\n",
              "\n",
              "    .colab-df-convert {\n",
              "      background-color: #E8F0FE;\n",
              "      border: none;\n",
              "      border-radius: 50%;\n",
              "      cursor: pointer;\n",
              "      display: none;\n",
              "      fill: #1967D2;\n",
              "      height: 32px;\n",
              "      padding: 0 0 0 0;\n",
              "      width: 32px;\n",
              "    }\n",
              "\n",
              "    .colab-df-convert:hover {\n",
              "      background-color: #E2EBFA;\n",
              "      box-shadow: 0px 1px 2px rgba(60, 64, 67, 0.3), 0px 1px 3px 1px rgba(60, 64, 67, 0.15);\n",
              "      fill: #174EA6;\n",
              "    }\n",
              "\n",
              "    [theme=dark] .colab-df-convert {\n",
              "      background-color: #3B4455;\n",
              "      fill: #D2E3FC;\n",
              "    }\n",
              "\n",
              "    [theme=dark] .colab-df-convert:hover {\n",
              "      background-color: #434B5C;\n",
              "      box-shadow: 0px 1px 3px 1px rgba(0, 0, 0, 0.15);\n",
              "      filter: drop-shadow(0px 1px 2px rgba(0, 0, 0, 0.3));\n",
              "      fill: #FFFFFF;\n",
              "    }\n",
              "  </style>\n",
              "\n",
              "      <script>\n",
              "        const buttonEl =\n",
              "          document.querySelector('#df-a7a78629-2f70-477c-82ef-60f7088d09d2 button.colab-df-convert');\n",
              "        buttonEl.style.display =\n",
              "          google.colab.kernel.accessAllowed ? 'block' : 'none';\n",
              "\n",
              "        async function convertToInteractive(key) {\n",
              "          const element = document.querySelector('#df-a7a78629-2f70-477c-82ef-60f7088d09d2');\n",
              "          const dataTable =\n",
              "            await google.colab.kernel.invokeFunction('convertToInteractive',\n",
              "                                                     [key], {});\n",
              "          if (!dataTable) return;\n",
              "\n",
              "          const docLinkHtml = 'Like what you see? Visit the ' +\n",
              "            '<a target=\"_blank\" href=https://colab.research.google.com/notebooks/data_table.ipynb>data table notebook</a>'\n",
              "            + ' to learn more about interactive tables.';\n",
              "          element.innerHTML = '';\n",
              "          dataTable['output_type'] = 'display_data';\n",
              "          await google.colab.output.renderOutput(dataTable, element);\n",
              "          const docLink = document.createElement('div');\n",
              "          docLink.innerHTML = docLinkHtml;\n",
              "          element.appendChild(docLink);\n",
              "        }\n",
              "      </script>\n",
              "    </div>\n",
              "  </div>\n",
              "  "
            ]
          },
          "metadata": {},
          "execution_count": 42
        }
      ]
    },
    {
      "cell_type": "markdown",
      "source": [
        "Dữ liệu cần kiểm chứng"
      ],
      "metadata": {
        "id": "N6m0rx-kkxX2"
      }
    },
    {
      "cell_type": "code",
      "source": [
        "dft"
      ],
      "metadata": {
        "colab": {
          "base_uri": "https://localhost:8080/",
          "height": 485
        },
        "id": "6BUF3IeOIAnQ",
        "outputId": "8f9b593c-1918-4745-e522-bb224f5b853f"
      },
      "execution_count": 43,
      "outputs": [
        {
          "output_type": "execute_result",
          "data": {
            "text/plain": [
              "      fixed acidity  volatile acidity  citric acid  residual sugar  chlorides  \\\n",
              "0               6.9              0.19         0.28             5.0      0.058   \n",
              "1               5.9              0.29         0.28             3.2      0.035   \n",
              "2              10.0              0.35         0.45             2.5      0.092   \n",
              "3               7.1              0.18         0.49             1.3      0.033   \n",
              "4              10.2              0.29         0.49             2.6      0.059   \n",
              "...             ...               ...          ...             ...        ...   \n",
              "1292            7.3              0.28         0.36            12.7      0.040   \n",
              "1293            7.0              0.23         0.32             1.8      0.048   \n",
              "1294            7.9              0.35         0.36             1.6      0.038   \n",
              "1295            6.4              0.28         0.28             3.0      0.040   \n",
              "1296            7.9              0.49         0.32             1.9      0.082   \n",
              "\n",
              "      free sulfur dioxide  total sulfur dioxide  density    pH  sulphates  \\\n",
              "0                    14.0                 146.0  0.99520  3.29       0.36   \n",
              "1                    16.0                 117.0  0.98959  3.26       0.42   \n",
              "2                    20.0                  88.0  0.99918  3.15       0.43   \n",
              "3                    12.0                  72.0  0.99072  3.05       0.53   \n",
              "4                     5.0                  13.0  0.99760  3.05       0.74   \n",
              "...                   ...                   ...      ...   ...        ...   \n",
              "1292                 38.0                 140.0  0.99800  3.30       0.79   \n",
              "1293                 25.0                 113.0  0.99150  3.11       0.47   \n",
              "1294                 11.0                 124.0  0.99280  3.25       0.48   \n",
              "1295                 19.0                  98.0  0.99216  3.25       0.47   \n",
              "1296                 17.0                 144.0  0.99680  3.20       0.55   \n",
              "\n",
              "      alcohol  \n",
              "0         9.1  \n",
              "1        12.6  \n",
              "2         9.4  \n",
              "3        11.3  \n",
              "4        10.5  \n",
              "...       ...  \n",
              "1292      9.6  \n",
              "1293     11.1  \n",
              "1294     11.0  \n",
              "1295     11.1  \n",
              "1296      9.5  \n",
              "\n",
              "[1297 rows x 11 columns]"
            ],
            "text/html": [
              "\n",
              "  <div id=\"df-d3db1fca-c6a1-480b-b474-6dcb429292eb\">\n",
              "    <div class=\"colab-df-container\">\n",
              "      <div>\n",
              "<style scoped>\n",
              "    .dataframe tbody tr th:only-of-type {\n",
              "        vertical-align: middle;\n",
              "    }\n",
              "\n",
              "    .dataframe tbody tr th {\n",
              "        vertical-align: top;\n",
              "    }\n",
              "\n",
              "    .dataframe thead th {\n",
              "        text-align: right;\n",
              "    }\n",
              "</style>\n",
              "<table border=\"1\" class=\"dataframe\">\n",
              "  <thead>\n",
              "    <tr style=\"text-align: right;\">\n",
              "      <th></th>\n",
              "      <th>fixed acidity</th>\n",
              "      <th>volatile acidity</th>\n",
              "      <th>citric acid</th>\n",
              "      <th>residual sugar</th>\n",
              "      <th>chlorides</th>\n",
              "      <th>free sulfur dioxide</th>\n",
              "      <th>total sulfur dioxide</th>\n",
              "      <th>density</th>\n",
              "      <th>pH</th>\n",
              "      <th>sulphates</th>\n",
              "      <th>alcohol</th>\n",
              "    </tr>\n",
              "  </thead>\n",
              "  <tbody>\n",
              "    <tr>\n",
              "      <th>0</th>\n",
              "      <td>6.9</td>\n",
              "      <td>0.19</td>\n",
              "      <td>0.28</td>\n",
              "      <td>5.0</td>\n",
              "      <td>0.058</td>\n",
              "      <td>14.0</td>\n",
              "      <td>146.0</td>\n",
              "      <td>0.99520</td>\n",
              "      <td>3.29</td>\n",
              "      <td>0.36</td>\n",
              "      <td>9.1</td>\n",
              "    </tr>\n",
              "    <tr>\n",
              "      <th>1</th>\n",
              "      <td>5.9</td>\n",
              "      <td>0.29</td>\n",
              "      <td>0.28</td>\n",
              "      <td>3.2</td>\n",
              "      <td>0.035</td>\n",
              "      <td>16.0</td>\n",
              "      <td>117.0</td>\n",
              "      <td>0.98959</td>\n",
              "      <td>3.26</td>\n",
              "      <td>0.42</td>\n",
              "      <td>12.6</td>\n",
              "    </tr>\n",
              "    <tr>\n",
              "      <th>2</th>\n",
              "      <td>10.0</td>\n",
              "      <td>0.35</td>\n",
              "      <td>0.45</td>\n",
              "      <td>2.5</td>\n",
              "      <td>0.092</td>\n",
              "      <td>20.0</td>\n",
              "      <td>88.0</td>\n",
              "      <td>0.99918</td>\n",
              "      <td>3.15</td>\n",
              "      <td>0.43</td>\n",
              "      <td>9.4</td>\n",
              "    </tr>\n",
              "    <tr>\n",
              "      <th>3</th>\n",
              "      <td>7.1</td>\n",
              "      <td>0.18</td>\n",
              "      <td>0.49</td>\n",
              "      <td>1.3</td>\n",
              "      <td>0.033</td>\n",
              "      <td>12.0</td>\n",
              "      <td>72.0</td>\n",
              "      <td>0.99072</td>\n",
              "      <td>3.05</td>\n",
              "      <td>0.53</td>\n",
              "      <td>11.3</td>\n",
              "    </tr>\n",
              "    <tr>\n",
              "      <th>4</th>\n",
              "      <td>10.2</td>\n",
              "      <td>0.29</td>\n",
              "      <td>0.49</td>\n",
              "      <td>2.6</td>\n",
              "      <td>0.059</td>\n",
              "      <td>5.0</td>\n",
              "      <td>13.0</td>\n",
              "      <td>0.99760</td>\n",
              "      <td>3.05</td>\n",
              "      <td>0.74</td>\n",
              "      <td>10.5</td>\n",
              "    </tr>\n",
              "    <tr>\n",
              "      <th>...</th>\n",
              "      <td>...</td>\n",
              "      <td>...</td>\n",
              "      <td>...</td>\n",
              "      <td>...</td>\n",
              "      <td>...</td>\n",
              "      <td>...</td>\n",
              "      <td>...</td>\n",
              "      <td>...</td>\n",
              "      <td>...</td>\n",
              "      <td>...</td>\n",
              "      <td>...</td>\n",
              "    </tr>\n",
              "    <tr>\n",
              "      <th>1292</th>\n",
              "      <td>7.3</td>\n",
              "      <td>0.28</td>\n",
              "      <td>0.36</td>\n",
              "      <td>12.7</td>\n",
              "      <td>0.040</td>\n",
              "      <td>38.0</td>\n",
              "      <td>140.0</td>\n",
              "      <td>0.99800</td>\n",
              "      <td>3.30</td>\n",
              "      <td>0.79</td>\n",
              "      <td>9.6</td>\n",
              "    </tr>\n",
              "    <tr>\n",
              "      <th>1293</th>\n",
              "      <td>7.0</td>\n",
              "      <td>0.23</td>\n",
              "      <td>0.32</td>\n",
              "      <td>1.8</td>\n",
              "      <td>0.048</td>\n",
              "      <td>25.0</td>\n",
              "      <td>113.0</td>\n",
              "      <td>0.99150</td>\n",
              "      <td>3.11</td>\n",
              "      <td>0.47</td>\n",
              "      <td>11.1</td>\n",
              "    </tr>\n",
              "    <tr>\n",
              "      <th>1294</th>\n",
              "      <td>7.9</td>\n",
              "      <td>0.35</td>\n",
              "      <td>0.36</td>\n",
              "      <td>1.6</td>\n",
              "      <td>0.038</td>\n",
              "      <td>11.0</td>\n",
              "      <td>124.0</td>\n",
              "      <td>0.99280</td>\n",
              "      <td>3.25</td>\n",
              "      <td>0.48</td>\n",
              "      <td>11.0</td>\n",
              "    </tr>\n",
              "    <tr>\n",
              "      <th>1295</th>\n",
              "      <td>6.4</td>\n",
              "      <td>0.28</td>\n",
              "      <td>0.28</td>\n",
              "      <td>3.0</td>\n",
              "      <td>0.040</td>\n",
              "      <td>19.0</td>\n",
              "      <td>98.0</td>\n",
              "      <td>0.99216</td>\n",
              "      <td>3.25</td>\n",
              "      <td>0.47</td>\n",
              "      <td>11.1</td>\n",
              "    </tr>\n",
              "    <tr>\n",
              "      <th>1296</th>\n",
              "      <td>7.9</td>\n",
              "      <td>0.49</td>\n",
              "      <td>0.32</td>\n",
              "      <td>1.9</td>\n",
              "      <td>0.082</td>\n",
              "      <td>17.0</td>\n",
              "      <td>144.0</td>\n",
              "      <td>0.99680</td>\n",
              "      <td>3.20</td>\n",
              "      <td>0.55</td>\n",
              "      <td>9.5</td>\n",
              "    </tr>\n",
              "  </tbody>\n",
              "</table>\n",
              "<p>1297 rows × 11 columns</p>\n",
              "</div>\n",
              "      <button class=\"colab-df-convert\" onclick=\"convertToInteractive('df-d3db1fca-c6a1-480b-b474-6dcb429292eb')\"\n",
              "              title=\"Convert this dataframe to an interactive table.\"\n",
              "              style=\"display:none;\">\n",
              "        \n",
              "  <svg xmlns=\"http://www.w3.org/2000/svg\" height=\"24px\"viewBox=\"0 0 24 24\"\n",
              "       width=\"24px\">\n",
              "    <path d=\"M0 0h24v24H0V0z\" fill=\"none\"/>\n",
              "    <path d=\"M18.56 5.44l.94 2.06.94-2.06 2.06-.94-2.06-.94-.94-2.06-.94 2.06-2.06.94zm-11 1L8.5 8.5l.94-2.06 2.06-.94-2.06-.94L8.5 2.5l-.94 2.06-2.06.94zm10 10l.94 2.06.94-2.06 2.06-.94-2.06-.94-.94-2.06-.94 2.06-2.06.94z\"/><path d=\"M17.41 7.96l-1.37-1.37c-.4-.4-.92-.59-1.43-.59-.52 0-1.04.2-1.43.59L10.3 9.45l-7.72 7.72c-.78.78-.78 2.05 0 2.83L4 21.41c.39.39.9.59 1.41.59.51 0 1.02-.2 1.41-.59l7.78-7.78 2.81-2.81c.8-.78.8-2.07 0-2.86zM5.41 20L4 18.59l7.72-7.72 1.47 1.35L5.41 20z\"/>\n",
              "  </svg>\n",
              "      </button>\n",
              "      \n",
              "  <style>\n",
              "    .colab-df-container {\n",
              "      display:flex;\n",
              "      flex-wrap:wrap;\n",
              "      gap: 12px;\n",
              "    }\n",
              "\n",
              "    .colab-df-convert {\n",
              "      background-color: #E8F0FE;\n",
              "      border: none;\n",
              "      border-radius: 50%;\n",
              "      cursor: pointer;\n",
              "      display: none;\n",
              "      fill: #1967D2;\n",
              "      height: 32px;\n",
              "      padding: 0 0 0 0;\n",
              "      width: 32px;\n",
              "    }\n",
              "\n",
              "    .colab-df-convert:hover {\n",
              "      background-color: #E2EBFA;\n",
              "      box-shadow: 0px 1px 2px rgba(60, 64, 67, 0.3), 0px 1px 3px 1px rgba(60, 64, 67, 0.15);\n",
              "      fill: #174EA6;\n",
              "    }\n",
              "\n",
              "    [theme=dark] .colab-df-convert {\n",
              "      background-color: #3B4455;\n",
              "      fill: #D2E3FC;\n",
              "    }\n",
              "\n",
              "    [theme=dark] .colab-df-convert:hover {\n",
              "      background-color: #434B5C;\n",
              "      box-shadow: 0px 1px 3px 1px rgba(0, 0, 0, 0.15);\n",
              "      filter: drop-shadow(0px 1px 2px rgba(0, 0, 0, 0.3));\n",
              "      fill: #FFFFFF;\n",
              "    }\n",
              "  </style>\n",
              "\n",
              "      <script>\n",
              "        const buttonEl =\n",
              "          document.querySelector('#df-d3db1fca-c6a1-480b-b474-6dcb429292eb button.colab-df-convert');\n",
              "        buttonEl.style.display =\n",
              "          google.colab.kernel.accessAllowed ? 'block' : 'none';\n",
              "\n",
              "        async function convertToInteractive(key) {\n",
              "          const element = document.querySelector('#df-d3db1fca-c6a1-480b-b474-6dcb429292eb');\n",
              "          const dataTable =\n",
              "            await google.colab.kernel.invokeFunction('convertToInteractive',\n",
              "                                                     [key], {});\n",
              "          if (!dataTable) return;\n",
              "\n",
              "          const docLinkHtml = 'Like what you see? Visit the ' +\n",
              "            '<a target=\"_blank\" href=https://colab.research.google.com/notebooks/data_table.ipynb>data table notebook</a>'\n",
              "            + ' to learn more about interactive tables.';\n",
              "          element.innerHTML = '';\n",
              "          dataTable['output_type'] = 'display_data';\n",
              "          await google.colab.output.renderOutput(dataTable, element);\n",
              "          const docLink = document.createElement('div');\n",
              "          docLink.innerHTML = docLinkHtml;\n",
              "          element.appendChild(docLink);\n",
              "        }\n",
              "      </script>\n",
              "    </div>\n",
              "  </div>\n",
              "  "
            ]
          },
          "metadata": {},
          "execution_count": 43
        }
      ]
    },
    {
      "cell_type": "markdown",
      "source": [
        "Ta thấy ở dữ liệu test này không có cột chất lượng cung cấp sẵn, vì đây là phần mà ta phải làm"
      ],
      "metadata": {
        "id": "xkDfKdMak1gc"
      }
    },
    {
      "cell_type": "code",
      "source": [
        "from sklearn.linear_model import LogisticRegression\n",
        "from sklearn.model_selection import train_test_split\n",
        "from sklearn.metrics import classification_report\n",
        "from sklearn.metrics import confusion_matrix\n",
        "from sklearn.metrics import f1_score\n",
        "from sklearn.model_selection import cross_val_score\n",
        "from sklearn.metrics import roc_auc_score\n",
        "import statsmodels.api as sm\n",
        "from sklearn.metrics import accuracy_score"
      ],
      "metadata": {
        "id": "NZ4MB96MIFkY"
      },
      "execution_count": 44,
      "outputs": []
    },
    {
      "cell_type": "code",
      "source": [
        "X = df.iloc[:, 1:13].values\n",
        "y = df.iloc[:, -1].values"
      ],
      "metadata": {
        "id": "9ZiVDq_IIH14"
      },
      "execution_count": 54,
      "outputs": []
    },
    {
      "cell_type": "code",
      "source": [
        "from sklearn.model_selection import train_test_split\n",
        "X_train, X_test, y_train, y_test = train_test_split(X, y, test_size=0.25)"
      ],
      "metadata": {
        "id": "rG9TcpO1IK0A"
      },
      "execution_count": 55,
      "outputs": []
    },
    {
      "cell_type": "code",
      "source": [
        "lr = LogisticRegression()\n",
        "lr.fit(X_train,y_train)"
      ],
      "metadata": {
        "colab": {
          "base_uri": "https://localhost:8080/"
        },
        "id": "JogMYIf2IMsw",
        "outputId": "27c68917-be49-4f64-c850-43d4e19dd49f"
      },
      "execution_count": 56,
      "outputs": [
        {
          "output_type": "stream",
          "name": "stderr",
          "text": [
            "/usr/local/lib/python3.7/dist-packages/sklearn/linear_model/_logistic.py:818: ConvergenceWarning: lbfgs failed to converge (status=1):\n",
            "STOP: TOTAL NO. of ITERATIONS REACHED LIMIT.\n",
            "\n",
            "Increase the number of iterations (max_iter) or scale the data as shown in:\n",
            "    https://scikit-learn.org/stable/modules/preprocessing.html\n",
            "Please also refer to the documentation for alternative solver options:\n",
            "    https://scikit-learn.org/stable/modules/linear_model.html#logistic-regression\n",
            "  extra_warning_msg=_LOGISTIC_SOLVER_CONVERGENCE_MSG,\n"
          ]
        },
        {
          "output_type": "execute_result",
          "data": {
            "text/plain": [
              "LogisticRegression()"
            ]
          },
          "metadata": {},
          "execution_count": 56
        }
      ]
    },
    {
      "cell_type": "code",
      "source": [
        "y_pred = lr.predict(X_test)"
      ],
      "metadata": {
        "id": "WL38w5HiIP07"
      },
      "execution_count": 57,
      "outputs": []
    },
    {
      "cell_type": "markdown",
      "source": [
        ""
      ],
      "metadata": {
        "id": "tvbA_CD8ji5D"
      }
    },
    {
      "cell_type": "code",
      "source": [
        "dz = pd.DataFrame({'Gt chính xác': y_test, 'Dự đoán': y_pred})\n",
        "print(dz)"
      ],
      "metadata": {
        "colab": {
          "base_uri": "https://localhost:8080/"
        },
        "id": "XS4V3U-cjh4j",
        "outputId": "ebcf5a66-5a90-48bd-d479-f1dd18c60dbf"
      },
      "execution_count": 58,
      "outputs": [
        {
          "output_type": "stream",
          "name": "stdout",
          "text": [
            "      Gt chính xác  Dự đoán\n",
            "0                6        6\n",
            "1                6        6\n",
            "2                5        5\n",
            "3                5        5\n",
            "4                6        6\n",
            "...            ...      ...\n",
            "1295             4        5\n",
            "1296             6        6\n",
            "1297             5        5\n",
            "1298             7        7\n",
            "1299             6        6\n",
            "\n",
            "[1300 rows x 2 columns]\n"
          ]
        }
      ]
    },
    {
      "cell_type": "code",
      "source": [
        "plt.plot(y_test, y_pred,'bo')\n"
      ],
      "metadata": {
        "id": "F8PvGOtyj_Tw",
        "outputId": "b1c31310-dd25-4da8-d06e-042ed47ef57f",
        "colab": {
          "base_uri": "https://localhost:8080/",
          "height": 282
        }
      },
      "execution_count": 71,
      "outputs": [
        {
          "output_type": "execute_result",
          "data": {
            "text/plain": [
              "[<matplotlib.lines.Line2D at 0x7fe6c4d8f550>]"
            ]
          },
          "metadata": {},
          "execution_count": 71
        },
        {
          "output_type": "display_data",
          "data": {
            "text/plain": [
              "<Figure size 432x288 with 1 Axes>"
            ],
            "image/png": "[encoded data removed]"
          },
          "metadata": {
            "needs_background": "light"
          }
        }
      ]
    },
    {
      "cell_type": "code",
      "source": [
        "accuracy_score(y_test,y_pred)"
      ],
      "metadata": {
        "colab": {
          "base_uri": "https://localhost:8080/"
        },
        "id": "03CX-qfrdLe6",
        "outputId": "dc80b543-d398-43b1-d3ba-ac6819df55b4"
      },
      "execution_count": 72,
      "outputs": [
        {
          "output_type": "execute_result",
          "data": {
            "text/plain": [
              "0.7046153846153846"
            ]
          },
          "metadata": {},
          "execution_count": 72
        }
      ]
    },
    {
      "cell_type": "markdown",
      "source": [
        "Lưu model để sử dụng sau này"
      ],
      "metadata": {
        "id": "ULtLmwkj1F8e"
      }
    },
    {
      "cell_type": "code",
      "source": [
        "import pickle\n",
        "filename = 'finalized_model.sav'\n",
        "pickle.dump(lr, open(filename, 'wb'))"
      ],
      "metadata": {
        "id": "9GFos6TUeqkX"
      },
      "execution_count": 61,
      "outputs": []
    },
    {
      "cell_type": "markdown",
      "source": [
        "test và lưu nó lại"
      ],
      "metadata": {
        "id": "vx7YTPwM1FIR"
      }
    },
    {
      "cell_type": "code",
      "source": [
        "test = lr.predict(dft)"
      ],
      "metadata": {
        "id": "SNlqkpSIIaC4",
        "outputId": "793684a8-8895-42ce-e9cc-b3d19e0d9cb7",
        "colab": {
          "base_uri": "https://localhost:8080/"
        }
      },
      "execution_count": 62,
      "outputs": [
        {
          "output_type": "stream",
          "name": "stderr",
          "text": [
            "/usr/local/lib/python3.7/dist-packages/sklearn/base.py:444: UserWarning: X has feature names, but LogisticRegression was fitted without feature names\n",
            "  f\"X has feature names, but {self.__class__.__name__} was fitted without\"\n"
          ]
        }
      ]
    },
    {
      "cell_type": "code",
      "source": [
        "Predf = pd.DataFrame(columns=[\"Id\",'quality'])\n",
        "Predf['Id']= ids\n",
        "Predf['quality']= test"
      ],
      "metadata": {
        "id": "ywlQORi2IcIB"
      },
      "execution_count": 63,
      "outputs": []
    },
    {
      "cell_type": "code",
      "source": [
        "Predf"
      ],
      "metadata": {
        "colab": {
          "base_uri": "https://localhost:8080/",
          "height": 424
        },
        "id": "qzbRDf8LIhui",
        "outputId": "f07c40a4-f8d9-4f76-ab52-bd979b22799a"
      },
      "execution_count": 64,
      "outputs": [
        {
          "output_type": "execute_result",
          "data": {
            "text/plain": [
              "        Id  quality\n",
              "0     5201        5\n",
              "1     5202        5\n",
              "2     5203        5\n",
              "3     5204        5\n",
              "4     5205        7\n",
              "...    ...      ...\n",
              "1292  6493        5\n",
              "1293  6494        5\n",
              "1294  6495        5\n",
              "1295  6496        5\n",
              "1296  6497        5\n",
              "\n",
              "[1297 rows x 2 columns]"
            ],
            "text/html": [
              "\n",
              "  <div id=\"df-00c7f6eb-6eab-4a90-a5a6-10c07e76c649\">\n",
              "    <div class=\"colab-df-container\">\n",
              "      <div>\n",
              "<style scoped>\n",
              "    .dataframe tbody tr th:only-of-type {\n",
              "        vertical-align: middle;\n",
              "    }\n",
              "\n",
              "    .dataframe tbody tr th {\n",
              "        vertical-align: top;\n",
              "    }\n",
              "\n",
              "    .dataframe thead th {\n",
              "        text-align: right;\n",
              "    }\n",
              "</style>\n",
              "<table border=\"1\" class=\"dataframe\">\n",
              "  <thead>\n",
              "    <tr style=\"text-align: right;\">\n",
              "      <th></th>\n",
              "      <th>Id</th>\n",
              "      <th>quality</th>\n",
              "    </tr>\n",
              "  </thead>\n",
              "  <tbody>\n",
              "    <tr>\n",
              "      <th>0</th>\n",
              "      <td>5201</td>\n",
              "      <td>5</td>\n",
              "    </tr>\n",
              "    <tr>\n",
              "      <th>1</th>\n",
              "      <td>5202</td>\n",
              "      <td>5</td>\n",
              "    </tr>\n",
              "    <tr>\n",
              "      <th>2</th>\n",
              "      <td>5203</td>\n",
              "      <td>5</td>\n",
              "    </tr>\n",
              "    <tr>\n",
              "      <th>3</th>\n",
              "      <td>5204</td>\n",
              "      <td>5</td>\n",
              "    </tr>\n",
              "    <tr>\n",
              "      <th>4</th>\n",
              "      <td>5205</td>\n",
              "      <td>7</td>\n",
              "    </tr>\n",
              "    <tr>\n",
              "      <th>...</th>\n",
              "      <td>...</td>\n",
              "      <td>...</td>\n",
              "    </tr>\n",
              "    <tr>\n",
              "      <th>1292</th>\n",
              "      <td>6493</td>\n",
              "      <td>5</td>\n",
              "    </tr>\n",
              "    <tr>\n",
              "      <th>1293</th>\n",
              "      <td>6494</td>\n",
              "      <td>5</td>\n",
              "    </tr>\n",
              "    <tr>\n",
              "      <th>1294</th>\n",
              "      <td>6495</td>\n",
              "      <td>5</td>\n",
              "    </tr>\n",
              "    <tr>\n",
              "      <th>1295</th>\n",
              "      <td>6496</td>\n",
              "      <td>5</td>\n",
              "    </tr>\n",
              "    <tr>\n",
              "      <th>1296</th>\n",
              "      <td>6497</td>\n",
              "      <td>5</td>\n",
              "    </tr>\n",
              "  </tbody>\n",
              "</table>\n",
              "<p>1297 rows × 2 columns</p>\n",
              "</div>\n",
              "      <button class=\"colab-df-convert\" onclick=\"convertToInteractive('df-00c7f6eb-6eab-4a90-a5a6-10c07e76c649')\"\n",
              "              title=\"Convert this dataframe to an interactive table.\"\n",
              "              style=\"display:none;\">\n",
              "        \n",
              "  <svg xmlns=\"http://www.w3.org/2000/svg\" height=\"24px\"viewBox=\"0 0 24 24\"\n",
              "       width=\"24px\">\n",
              "    <path d=\"M0 0h24v24H0V0z\" fill=\"none\"/>\n",
              "    <path d=\"M18.56 5.44l.94 2.06.94-2.06 2.06-.94-2.06-.94-.94-2.06-.94 2.06-2.06.94zm-11 1L8.5 8.5l.94-2.06 2.06-.94-2.06-.94L8.5 2.5l-.94 2.06-2.06.94zm10 10l.94 2.06.94-2.06 2.06-.94-2.06-.94-.94-2.06-.94 2.06-2.06.94z\"/><path d=\"M17.41 7.96l-1.37-1.37c-.4-.4-.92-.59-1.43-.59-.52 0-1.04.2-1.43.59L10.3 9.45l-7.72 7.72c-.78.78-.78 2.05 0 2.83L4 21.41c.39.39.9.59 1.41.59.51 0 1.02-.2 1.41-.59l7.78-7.78 2.81-2.81c.8-.78.8-2.07 0-2.86zM5.41 20L4 18.59l7.72-7.72 1.47 1.35L5.41 20z\"/>\n",
              "  </svg>\n",
              "      </button>\n",
              "      \n",
              "  <style>\n",
              "    .colab-df-container {\n",
              "      display:flex;\n",
              "      flex-wrap:wrap;\n",
              "      gap: 12px;\n",
              "    }\n",
              "\n",
              "    .colab-df-convert {\n",
              "      background-color: #E8F0FE;\n",
              "      border: none;\n",
              "      border-radius: 50%;\n",
              "      cursor: pointer;\n",
              "      display: none;\n",
              "      fill: #1967D2;\n",
              "      height: 32px;\n",
              "      padding: 0 0 0 0;\n",
              "      width: 32px;\n",
              "    }\n",
              "\n",
              "    .colab-df-convert:hover {\n",
              "      background-color: #E2EBFA;\n",
              "      box-shadow: 0px 1px 2px rgba(60, 64, 67, 0.3), 0px 1px 3px 1px rgba(60, 64, 67, 0.15);\n",
              "      fill: #174EA6;\n",
              "    }\n",
              "\n",
              "    [theme=dark] .colab-df-convert {\n",
              "      background-color: #3B4455;\n",
              "      fill: #D2E3FC;\n",
              "    }\n",
              "\n",
              "    [theme=dark] .colab-df-convert:hover {\n",
              "      background-color: #434B5C;\n",
              "      box-shadow: 0px 1px 3px 1px rgba(0, 0, 0, 0.15);\n",
              "      filter: drop-shadow(0px 1px 2px rgba(0, 0, 0, 0.3));\n",
              "      fill: #FFFFFF;\n",
              "    }\n",
              "  </style>\n",
              "\n",
              "      <script>\n",
              "        const buttonEl =\n",
              "          document.querySelector('#df-00c7f6eb-6eab-4a90-a5a6-10c07e76c649 button.colab-df-convert');\n",
              "        buttonEl.style.display =\n",
              "          google.colab.kernel.accessAllowed ? 'block' : 'none';\n",
              "\n",
              "        async function convertToInteractive(key) {\n",
              "          const element = document.querySelector('#df-00c7f6eb-6eab-4a90-a5a6-10c07e76c649');\n",
              "          const dataTable =\n",
              "            await google.colab.kernel.invokeFunction('convertToInteractive',\n",
              "                                                     [key], {});\n",
              "          if (!dataTable) return;\n",
              "\n",
              "          const docLinkHtml = 'Like what you see? Visit the ' +\n",
              "            '<a target=\"_blank\" href=https://colab.research.google.com/notebooks/data_table.ipynb>data table notebook</a>'\n",
              "            + ' to learn more about interactive tables.';\n",
              "          element.innerHTML = '';\n",
              "          dataTable['output_type'] = 'display_data';\n",
              "          await google.colab.output.renderOutput(dataTable, element);\n",
              "          const docLink = document.createElement('div');\n",
              "          docLink.innerHTML = docLinkHtml;\n",
              "          element.appendChild(docLink);\n",
              "        }\n",
              "      </script>\n",
              "    </div>\n",
              "  </div>\n",
              "  "
            ]
          },
          "metadata": {},
          "execution_count": 64
        }
      ]
    },
    {
      "cell_type": "code",
      "source": [
        "Predf.to_csv('Solution.csv',index=False)"
      ],
      "metadata": {
        "id": "Dp7Pn9z6I-nw"
      },
      "execution_count": 65,
      "outputs": []
    }
  ]
}